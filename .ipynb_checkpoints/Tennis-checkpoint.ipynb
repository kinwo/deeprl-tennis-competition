{
 "cells": [
  {
   "cell_type": "markdown",
   "metadata": {},
   "source": [
    "# Collaboration and Competition\n",
    "\n",
    "---\n",
    "\n",
    "You are welcome to use this coding environment to train your agent for the project.  Follow the instructions below to get started!\n",
    "\n",
    "### 1. Start the Environment"
   ]
  },
  {
   "cell_type": "markdown",
   "metadata": {},
   "source": [
    "The environment is already saved in the Workspace and can be accessed at the file path provided below. "
   ]
  },
  {
   "cell_type": "code",
   "execution_count": 1,
   "metadata": {},
   "outputs": [
    {
     "name": "stderr",
     "output_type": "stream",
     "text": [
      "INFO:unityagents:\n",
      "'Academy' started successfully!\n",
      "Unity Academy name: Academy\n",
      "        Number of Brains: 1\n",
      "        Number of External Brains : 1\n",
      "        Lesson number : 0\n",
      "        Reset Parameters :\n",
      "\t\t\n",
      "Unity brain name: TennisBrain\n",
      "        Number of Visual Observations (per agent): 0\n",
      "        Vector Observation space type: continuous\n",
      "        Vector Observation space size (per agent): 8\n",
      "        Number of stacked Vector Observation: 3\n",
      "        Vector Action space type: continuous\n",
      "        Vector Action space size (per agent): 2\n",
      "        Vector Action descriptions: , \n"
     ]
    }
   ],
   "source": [
    "from unityagents import UnityEnvironment\n",
    "import numpy as np\n",
    "\n",
    "env = UnityEnvironment(file_name=\"Tennis.app\")"
   ]
  },
  {
   "cell_type": "markdown",
   "metadata": {},
   "source": [
    "Environments contain **_brains_** which are responsible for deciding the actions of their associated agents. Here we check for the first brain available, and set it as the default brain we will be controlling from Python."
   ]
  },
  {
   "cell_type": "code",
   "execution_count": 2,
   "metadata": {},
   "outputs": [],
   "source": [
    "# get the default brain\n",
    "brain_name = env.brain_names[0]\n",
    "brain = env.brains[brain_name]"
   ]
  },
  {
   "cell_type": "markdown",
   "metadata": {},
   "source": [
    "### 2. Examine the State and Action Spaces\n",
    "\n",
    "Run the code cell below to print some information about the environment."
   ]
  },
  {
   "cell_type": "code",
   "execution_count": 3,
   "metadata": {},
   "outputs": [
    {
     "name": "stdout",
     "output_type": "stream",
     "text": [
      "Number of agents: 2\n",
      "Size of each action: 2\n",
      "There are 2 agents. Each observes a state with length: 24\n",
      "The state for the first agent looks like: [ 0.          0.          0.          0.          0.          0.\n",
      "  0.          0.          0.          0.          0.          0.\n",
      "  0.          0.          0.          0.         -6.65278625 -1.5\n",
      " -0.          0.          6.83172083  6.         -0.          0.        ]\n"
     ]
    }
   ],
   "source": [
    "# reset the environment\n",
    "env_info = env.reset(train_mode=True)[brain_name]\n",
    "\n",
    "# number of agents \n",
    "num_agents = len(env_info.agents)\n",
    "print('Number of agents:', num_agents)\n",
    "\n",
    "# size of each action\n",
    "action_size = brain.vector_action_space_size\n",
    "print('Size of each action:', action_size)\n",
    "\n",
    "# examine the state space \n",
    "states = env_info.vector_observations\n",
    "state_size = states.shape[1]\n",
    "print('There are {} agents. Each observes a state with length: {}'.format(states.shape[0], state_size))\n",
    "print('The state for the first agent looks like:', states[0])"
   ]
  },
  {
   "cell_type": "markdown",
   "metadata": {},
   "source": [
    "### 3. Create DDPG Agent"
   ]
  },
  {
   "cell_type": "code",
   "execution_count": 7,
   "metadata": {},
   "outputs": [],
   "source": [
    "from ddpg_agent import Agent\n",
    "import torch\n",
    "\n",
    "random_seed = 7\n",
    "train_mode = True\n",
    "\n",
    "# Create one brain agent having one Reply memory buffer collecting experience from both tennis agents\n",
    "agent = Agent(state_size=state_size, action_size=action_size, random_seed=random_seed)"
   ]
  },
  {
   "cell_type": "markdown",
   "metadata": {},
   "source": [
    "### 4. Training"
   ]
  },
  {
   "cell_type": "code",
   "execution_count": 9,
   "metadata": {},
   "outputs": [
    {
     "name": "stdout",
     "output_type": "stream",
     "text": [
      "Episode 5\tTotal Average Score: 0.02\tMean: -0.00\tMin: -0.01\tMax: 0.00\tDuration: 0.03\n",
      "Episode 10\tTotal Average Score: 0.01\tMean: -0.00\tMin: -0.01\tMax: 0.00\tDuration: 0.03\n",
      "Episode 15\tTotal Average Score: 0.01\tMean: -0.00\tMin: -0.01\tMax: 0.00\tDuration: 0.03\n",
      "Episode 20\tTotal Average Score: 0.01\tMean: -0.00\tMin: -0.01\tMax: 0.00\tDuration: 0.45\n",
      "Episode 25\tTotal Average Score: 0.00\tMean: -0.00\tMin: -0.01\tMax: 0.00\tDuration: 0.45\n",
      "Episode 30\tTotal Average Score: 0.00\tMean: -0.00\tMin: -0.01\tMax: 0.00\tDuration: 0.45\n",
      "Episode 35\tTotal Average Score: 0.00\tMean: -0.00\tMin: -0.01\tMax: 0.00\tDuration: 0.46\n",
      "Episode 40\tTotal Average Score: 0.00\tMean: -0.00\tMin: -0.01\tMax: 0.00\tDuration: 0.45\n",
      "Episode 45\tTotal Average Score: 0.00\tMean: -0.00\tMin: -0.01\tMax: 0.00\tDuration: 0.45\n",
      "Episode 50\tTotal Average Score: 0.01\tMean: -0.00\tMin: -0.01\tMax: 0.00\tDuration: 0.46\n",
      "Episode 55\tTotal Average Score: 0.01\tMean: -0.00\tMin: -0.01\tMax: 0.00\tDuration: 0.46\n",
      "Episode 60\tTotal Average Score: 0.01\tMean: -0.00\tMin: -0.01\tMax: 0.00\tDuration: 0.46\n",
      "Episode 65\tTotal Average Score: 0.01\tMean: -0.00\tMin: -0.01\tMax: 0.00\tDuration: 0.46\n",
      "Episode 70\tTotal Average Score: 0.01\tMean: -0.00\tMin: -0.01\tMax: 0.00\tDuration: 0.46\n",
      "Episode 75\tTotal Average Score: 0.01\tMean: -0.00\tMin: -0.01\tMax: 0.00\tDuration: 0.46\n",
      "Episode 80\tTotal Average Score: 0.01\tMean: 0.05\tMin: -0.01\tMax: 0.10\tDuration: 1.08\n",
      "Episode 85\tTotal Average Score: 0.01\tMean: 0.05\tMin: 0.00\tMax: 0.09\tDuration: 1.07\n",
      "Episode 90\tTotal Average Score: 0.01\tMean: -0.00\tMin: -0.01\tMax: 0.00\tDuration: 0.61\n",
      "Episode 95\tTotal Average Score: 0.02\tMean: 0.05\tMin: -0.01\tMax: 0.10\tDuration: 1.07\n",
      "Episode 100\tTotal Average Score: 0.02\tMean: 0.05\tMin: -0.01\tMax: 0.10\tDuration: 0.77\n",
      "Episode 105\tTotal Average Score: 0.02\tMean: -0.00\tMin: -0.01\tMax: 0.00\tDuration: 0.46\n",
      "Episode 110\tTotal Average Score: 0.02\tMean: -0.00\tMin: -0.01\tMax: 0.00\tDuration: 0.46\n",
      "Episode 115\tTotal Average Score: 0.02\tMean: -0.00\tMin: -0.01\tMax: 0.00\tDuration: 0.47\n",
      "Episode 120\tTotal Average Score: 0.03\tMean: 0.10\tMin: 0.09\tMax: 0.10\tDuration: 1.56\n",
      "Episode 125\tTotal Average Score: 0.03\tMean: 0.05\tMin: 0.00\tMax: 0.09\tDuration: 1.08\n",
      "Episode 130\tTotal Average Score: 0.03\tMean: 0.05\tMin: 0.00\tMax: 0.09\tDuration: 0.94\n",
      "Episode 135\tTotal Average Score: 0.04\tMean: 0.10\tMin: 0.09\tMax: 0.10\tDuration: 2.03\n",
      "Episode 140\tTotal Average Score: 0.04\tMean: -0.00\tMin: -0.01\tMax: 0.00\tDuration: 0.47\n",
      "Episode 145\tTotal Average Score: 0.04\tMean: -0.00\tMin: -0.01\tMax: 0.00\tDuration: 0.47\n",
      "Episode 150\tTotal Average Score: 0.04\tMean: 0.10\tMin: 0.09\tMax: 0.10\tDuration: 1.57\n",
      "Episode 155\tTotal Average Score: 0.04\tMean: -0.00\tMin: -0.01\tMax: 0.00\tDuration: 0.47\n",
      "Episode 160\tTotal Average Score: 0.05\tMean: -0.00\tMin: -0.01\tMax: 0.00\tDuration: 0.47\n",
      "Episode 165\tTotal Average Score: 0.05\tMean: -0.00\tMin: -0.01\tMax: 0.00\tDuration: 0.47\n",
      "Episode 170\tTotal Average Score: 0.06\tMean: 0.05\tMin: -0.01\tMax: 0.10\tDuration: 0.94\n",
      "Episode 175\tTotal Average Score: 0.06\tMean: 0.05\tMin: -0.01\tMax: 0.10\tDuration: 0.94\n",
      "Episode 180\tTotal Average Score: 0.06\tMean: 0.10\tMin: 0.09\tMax: 0.10\tDuration: 1.73\n",
      "Episode 185\tTotal Average Score: 0.06\tMean: 0.05\tMin: 0.00\tMax: 0.09\tDuration: 1.10\n",
      "Episode 190\tTotal Average Score: 0.07\tMean: 0.10\tMin: 0.09\tMax: 0.10\tDuration: 1.74\n",
      "Episode 195\tTotal Average Score: 0.07\tMean: 0.05\tMin: -0.01\tMax: 0.10\tDuration: 0.95\n",
      "Episode 200\tTotal Average Score: 0.08\tMean: 0.10\tMin: 0.09\tMax: 0.10\tDuration: 1.74\n",
      "Episode 205\tTotal Average Score: 0.09\tMean: 0.40\tMin: 0.39\tMax: 0.40\tDuration: 5.23\n",
      "Episode 210\tTotal Average Score: 0.10\tMean: 0.10\tMin: 0.09\tMax: 0.10\tDuration: 1.73\n",
      "Episode 215\tTotal Average Score: 0.11\tMean: 0.65\tMin: 0.59\tMax: 0.70\tDuration: 8.31\n",
      "Episode 220\tTotal Average Score: 0.13\tMean: 0.20\tMin: 0.19\tMax: 0.20\tDuration: 2.73\n",
      "Episode 225\tTotal Average Score: 0.15\tMean: 0.10\tMin: 0.09\tMax: 0.10\tDuration: 1.77\n",
      "Episode 230\tTotal Average Score: 0.17\tMean: 0.10\tMin: 0.09\tMax: 0.10\tDuration: 1.76\n",
      "Episode 235\tTotal Average Score: 0.19\tMean: 0.80\tMin: 0.79\tMax: 0.80\tDuration: 10.14\n",
      "Episode 240\tTotal Average Score: 0.22\tMean: 0.30\tMin: 0.29\tMax: 0.30\tDuration: 4.18\n",
      "Episode 245\tTotal Average Score: 0.23\tMean: 0.39\tMin: 0.38\tMax: 0.40\tDuration: 5.47\n",
      "Episode 250\tTotal Average Score: 0.24\tMean: 0.30\tMin: 0.29\tMax: 0.30\tDuration: 4.17\n",
      "Episode 255\tTotal Average Score: 0.26\tMean: 0.80\tMin: 0.79\tMax: 0.80\tDuration: 10.30\n",
      "Episode 260\tTotal Average Score: 0.29\tMean: 0.25\tMin: 0.19\tMax: 0.30\tDuration: 3.38\n",
      "Episode 265\tTotal Average Score: 0.30\tMean: 0.40\tMin: 0.39\tMax: 0.40\tDuration: 5.83\n",
      "Episode 270\tTotal Average Score: 0.32\tMean: 0.35\tMin: 0.29\tMax: 0.40\tDuration: 4.74\n",
      "Episode 275\tTotal Average Score: 0.33\tMean: 0.10\tMin: 0.09\tMax: 0.10\tDuration: 2.43\n",
      "Episode 280\tTotal Average Score: 0.36\tMean: 0.05\tMin: -0.01\tMax: 0.10\tDuration: 1.12\n",
      "Episode 285\tTotal Average Score: 0.36\tMean: 0.05\tMin: -0.01\tMax: 0.10\tDuration: 0.97\n",
      "Episode 290\tTotal Average Score: 0.37\tMean: 0.25\tMin: 0.19\tMax: 0.30\tDuration: 3.39\n",
      "Episode 295\tTotal Average Score: 0.38\tMean: 0.50\tMin: 0.49\tMax: 0.50\tDuration: 6.64\n",
      "Episode 300\tTotal Average Score: 0.40\tMean: 0.60\tMin: 0.59\tMax: 0.60\tDuration: 7.91\n",
      "Episode 305\tTotal Average Score: 0.41\tMean: 0.20\tMin: 0.19\tMax: 0.20\tDuration: 3.56\n",
      "Episode 310\tTotal Average Score: 0.41\tMean: 0.10\tMin: 0.09\tMax: 0.10\tDuration: 1.77\n",
      "Episode 315\tTotal Average Score: 0.42\tMean: 0.15\tMin: 0.09\tMax: 0.20\tDuration: 2.26\n",
      "Episode 320\tTotal Average Score: 0.41\tMean: 0.35\tMin: 0.29\tMax: 0.40\tDuration: 5.36\n",
      "Episode 325\tTotal Average Score: 0.41\tMean: 0.05\tMin: 0.00\tMax: 0.09\tDuration: 1.13\n",
      "Episode 330\tTotal Average Score: 0.40\tMean: 0.05\tMin: 0.00\tMax: 0.09\tDuration: 0.98\n",
      "Episode 335\tTotal Average Score: 0.40\tMean: 0.15\tMin: 0.10\tMax: 0.19\tDuration: 2.27\n",
      "Episode 340\tTotal Average Score: 0.39\tMean: 1.10\tMin: 1.09\tMax: 1.10\tDuration: 14.07\n",
      "Episode 345\tTotal Average Score: 0.39\tMean: 0.15\tMin: 0.09\tMax: 0.20\tDuration: 2.28\n",
      "Episode 350\tTotal Average Score: 0.44\tMean: 0.70\tMin: 0.69\tMax: 0.70\tDuration: 8.99\n",
      "Episode 355\tTotal Average Score: 0.46\tMean: 0.25\tMin: 0.19\tMax: 0.30\tDuration: 3.58\n",
      "Episode 360\tTotal Average Score: 0.44\tMean: -0.00\tMin: -0.01\tMax: 0.00\tDuration: 0.49\n",
      "Episode 365\tTotal Average Score: 0.44\tMean: 0.15\tMin: 0.09\tMax: 0.20\tDuration: 1.80\n",
      "Episode 370\tTotal Average Score: 0.44\tMean: 0.50\tMin: 0.49\tMax: 0.50\tDuration: 7.43\n",
      "Episode 375\tTotal Average Score: 0.44\tMean: 0.90\tMin: 0.89\tMax: 0.90\tDuration: 11.75\n",
      "Episode 380\tTotal Average Score: 0.44\tMean: 0.40\tMin: 0.39\tMax: 0.40\tDuration: 5.30\n",
      "Episode 385\tTotal Average Score: 0.47\tMean: 2.55\tMin: 2.50\tMax: 2.60\tDuration: 33.41\n",
      "Episode 390\tTotal Average Score: 0.50\tMean: 1.25\tMin: 1.20\tMax: 1.29\tDuration: 16.34\n",
      "Problem Solved after 391 epsisodes!! Total Average score: 0.50\n"
     ]
    }
   ],
   "source": [
    "import random\n",
    "import time\n",
    "import numpy as np\n",
    "\n",
    "from collections import deque\n",
    "\n",
    "def ddpg(n_episodes=2000, max_t=2000, print_every=5, save_every=50, learn_every=5, num_learn=10, goal_score=0.5):\n",
    "    total_scores_deque = deque(maxlen=100)\n",
    "    total_scores = []\n",
    "    \n",
    "    for i_episode in range(1, n_episodes+1):\n",
    "        \n",
    "        # Reset Env and Agent\n",
    "        env_info = env.reset(train_mode=train_mode)[brain_name]  # reset the environment    \n",
    "        states = env_info.vector_observations                    # get the current state (for each agent)\n",
    "        scores = np.zeros(num_agents)                            # initialize the score (for each agent)\n",
    "        agent.reset()\n",
    "        \n",
    "        start_time = time.time()\n",
    "        \n",
    "        for t in range(max_t):\n",
    "            actions = agent.act(states)\n",
    "            \n",
    "            env_info = env.step(actions)[brain_name]            # send all actions to the environment\n",
    "            next_states = env_info.vector_observations          # get next state (for each agent)\n",
    "            rewards = env_info.rewards                          # get reward (for each agent)\n",
    "            \n",
    "            dones = env_info.local_done                         # see if episode finished\n",
    "            \n",
    "            for state, action, reward, next_state, done in zip(states, actions, rewards, next_states, dones):\n",
    "                agent.step(state, action, reward, next_state, done) # send actions to the agent\n",
    "            \n",
    "            scores += env_info.rewards                           # update the score (for each agent)\n",
    "            states = next_states                                 # roll over states to next time step\n",
    "            \n",
    "            if t%learn_every == 0:\n",
    "                for _ in range(num_learn):\n",
    "                    agent.start_learn()\n",
    "            \n",
    "            if np.any(dones):                                   # exit loop if episode finished\n",
    "                break\n",
    "    \n",
    "        mean_score = np.mean(scores)\n",
    "        min_score = np.min(scores)\n",
    "        max_score = np.max(scores)\n",
    "        \n",
    "        # Take max of all agents' scores\n",
    "        total_scores_deque.append(max_score)\n",
    "        total_scores.append(max_score)\n",
    "        total_average_score = np.mean(total_scores_deque)\n",
    "        duration = time.time() - start_time\n",
    "        \n",
    "\n",
    "        if i_episode % print_every == 0:\n",
    "            print('\\rEpisode {}\\tTotal Average Score: {:.2f}\\tMean: {:.2f}\\tMin: {:.2f}\\tMax: {:.2f}\\tDuration: {:.2f}'.format(i_episode, total_average_score, mean_score, min_score, max_score, duration))\n",
    "\n",
    "        if i_episode % save_every == 0:\n",
    "            torch.save(agent.actor_local.state_dict(), 'checkpoint_actor.pth')\n",
    "            torch.save(agent.critic_local.state_dict(), 'checkpoint_critic.pth')\n",
    "        \n",
    "        if total_average_score >= goal_score and i_episode >= 100:\n",
    "            print('Problem Solved after {} epsisodes!! Total Average score: {:.2f}'.format(i_episode, total_average_score))\n",
    "            torch.save(agent.actor_local.state_dict(), 'checkpoint_actor.pth')\n",
    "            torch.save(agent.critic_local.state_dict(), 'checkpoint_critic.pth')\n",
    "            break\n",
    "    \n",
    "    return total_scores\n",
    "\n",
    "scores = ddpg()\n"
   ]
  },
  {
   "cell_type": "markdown",
   "metadata": {},
   "source": [
    "### 5. Result"
   ]
  },
  {
   "cell_type": "code",
   "execution_count": 10,
   "metadata": {},
   "outputs": [
    {
     "data": {
      "image/png": "[encoded data removed]",
      "text/plain": [
       "<Figure size 432x288 with 1 Axes>"
      ]
     },
     "metadata": {
      "needs_background": "light"
     },
     "output_type": "display_data"
    }
   ],
   "source": [
    "import matplotlib.pyplot as plt\n",
    "%matplotlib inline\n",
    "\n",
    "fig = plt.figure()\n",
    "ax = fig.add_subplot(1,1,1)\n",
    "\n",
    "plt.plot(np.arange(1, len(scores)+1), scores)\n",
    "plt.ylabel('Average Score')\n",
    "plt.xlabel('Episode No.')\n",
    "plt.show()"
   ]
  },
  {
   "cell_type": "markdown",
   "metadata": {},
   "source": [
    "### 6. Watch the agent running with saved weights"
   ]
  },
  {
   "cell_type": "code",
   "execution_count": null,
   "metadata": {},
   "outputs": [],
   "source": [
    "# Load the saved weights into Pytorch model\n",
    "agent.actor_local.load_state_dict(torch.load('checkpoint_actor.pth', map_location='cpu'))\n",
    "agent.critic_local.load_state_dict(torch.load('checkpoint_critic.pth', map_location='cpu'))\n",
    "\n",
    "for i in range(100):                                         # play game for 5 episodes\n",
    "    env_info = env.reset(train_mode=False)[brain_name]     # reset the environment    \n",
    "    states = env_info.vector_observations                  # get the current state (for each agent)\n",
    "    scores = np.zeros(num_agents)                          # initialize the score (for each agent)\n",
    "    while True:\n",
    "        actions = agent.act(states)                        # select actions from loaded model agent\n",
    "        actions = np.clip(actions, -1, 1)                  # all actions between -1 and 1\n",
    "        env_info = env.step(actions)[brain_name]           # send all actions to tne environment\n",
    "        next_states = env_info.vector_observations         # get next state (for each agent)\n",
    "        rewards = env_info.rewards                         # get reward (for each agent)\n",
    "        dones = env_info.local_done                        # see if episode finished\n",
    "        scores += env_info.rewards                         # update the score (for each agent)\n",
    "        states = next_states                               # roll over states to next time step\n",
    "        if np.any(dones):                                  # exit loop if episode finished\n",
    "            break\n",
    "    print('Total score (averaged over agents) this episode: {}'.format(np.mean(scores)))"
   ]
  },
  {
   "cell_type": "markdown",
   "metadata": {},
   "source": [
    "When finished, you can close the environment."
   ]
  },
  {
   "cell_type": "code",
   "execution_count": null,
   "metadata": {},
   "outputs": [],
   "source": [
    "env.close()"
   ]
  }
 ],
 "metadata": {
  "kernelspec": {
   "display_name": "drlnd",
   "language": "python",
   "name": "drlnd"
  },
  "language_info": {
   "codemirror_mode": {
    "name": "ipython",
    "version": 3
   },
   "file_extension": ".py",
   "mimetype": "text/x-python",
   "name": "python",
   "nbconvert_exporter": "python",
   "pygments_lexer": "ipython3",
   "version": "3.6.7"
  }
 },
 "nbformat": 4,
 "nbformat_minor": 2
}
